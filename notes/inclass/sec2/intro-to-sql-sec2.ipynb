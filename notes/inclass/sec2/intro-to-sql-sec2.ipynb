{
 "cells": [
  {
   "cell_type": "code",
   "execution_count": 2,
   "id": "890fcc65",
   "metadata": {},
   "outputs": [],
   "source": [
    "%load_ext sql"
   ]
  },
  {
   "cell_type": "code",
   "execution_count": 3,
   "id": "3cd8b86d",
   "metadata": {},
   "outputs": [],
   "source": [
    "%sql sqlite:///C:\\Users\\bilene\\Downloads\\book.db"
   ]
  },
  {
   "cell_type": "code",
   "execution_count": 6,
   "id": "4c4f305c",
   "metadata": {},
   "outputs": [
    {
     "name": "stdout",
     "output_type": "stream",
     "text": [
      " * sqlite:///C:\\Users\\bilene\\Downloads\\book.db\n",
      "Done.\n"
     ]
    }
   ],
   "source": [
    "output = %sql SELECT * FROM topnames"
   ]
  },
  {
   "cell_type": "code",
   "execution_count": 7,
   "id": "e0ebcd64",
   "metadata": {},
   "outputs": [
    {
     "data": {
      "text/plain": [
       "sql.run.ResultSet"
      ]
     },
     "execution_count": 7,
     "metadata": {},
     "output_type": "execute_result"
    }
   ],
   "source": [
    "type(output)"
   ]
  },
  {
   "cell_type": "code",
   "execution_count": 8,
   "id": "d2d5ed6c",
   "metadata": {},
   "outputs": [
    {
     "data": {
      "text/html": [
       "<div>\n",
       "<style scoped>\n",
       "    .dataframe tbody tr th:only-of-type {\n",
       "        vertical-align: middle;\n",
       "    }\n",
       "\n",
       "    .dataframe tbody tr th {\n",
       "        vertical-align: top;\n",
       "    }\n",
       "\n",
       "    .dataframe thead th {\n",
       "        text-align: right;\n",
       "    }\n",
       "</style>\n",
       "<table border=\"1\" class=\"dataframe\">\n",
       "  <thead>\n",
       "    <tr style=\"text-align: right;\">\n",
       "      <th></th>\n",
       "      <th>year</th>\n",
       "      <th>sex</th>\n",
       "      <th>name</th>\n",
       "      <th>count</th>\n",
       "    </tr>\n",
       "  </thead>\n",
       "  <tbody>\n",
       "    <tr>\n",
       "      <th>0</th>\n",
       "      <td>1880</td>\n",
       "      <td>Female</td>\n",
       "      <td>Mary</td>\n",
       "      <td>7065</td>\n",
       "    </tr>\n",
       "    <tr>\n",
       "      <th>1</th>\n",
       "      <td>1880</td>\n",
       "      <td>Male</td>\n",
       "      <td>John</td>\n",
       "      <td>9655</td>\n",
       "    </tr>\n",
       "    <tr>\n",
       "      <th>2</th>\n",
       "      <td>1881</td>\n",
       "      <td>Female</td>\n",
       "      <td>Mary</td>\n",
       "      <td>6919</td>\n",
       "    </tr>\n",
       "    <tr>\n",
       "      <th>3</th>\n",
       "      <td>1881</td>\n",
       "      <td>Male</td>\n",
       "      <td>John</td>\n",
       "      <td>8769</td>\n",
       "    </tr>\n",
       "    <tr>\n",
       "      <th>4</th>\n",
       "      <td>1882</td>\n",
       "      <td>Female</td>\n",
       "      <td>Mary</td>\n",
       "      <td>8148</td>\n",
       "    </tr>\n",
       "    <tr>\n",
       "      <th>...</th>\n",
       "      <td>...</td>\n",
       "      <td>...</td>\n",
       "      <td>...</td>\n",
       "      <td>...</td>\n",
       "    </tr>\n",
       "    <tr>\n",
       "      <th>273</th>\n",
       "      <td>2016</td>\n",
       "      <td>Male</td>\n",
       "      <td>Noah</td>\n",
       "      <td>19117</td>\n",
       "    </tr>\n",
       "    <tr>\n",
       "      <th>274</th>\n",
       "      <td>2017</td>\n",
       "      <td>Female</td>\n",
       "      <td>Emma</td>\n",
       "      <td>19800</td>\n",
       "    </tr>\n",
       "    <tr>\n",
       "      <th>275</th>\n",
       "      <td>2017</td>\n",
       "      <td>Male</td>\n",
       "      <td>Liam</td>\n",
       "      <td>18798</td>\n",
       "    </tr>\n",
       "    <tr>\n",
       "      <th>276</th>\n",
       "      <td>2018</td>\n",
       "      <td>Female</td>\n",
       "      <td>Emma</td>\n",
       "      <td>18688</td>\n",
       "    </tr>\n",
       "    <tr>\n",
       "      <th>277</th>\n",
       "      <td>2018</td>\n",
       "      <td>Male</td>\n",
       "      <td>Liam</td>\n",
       "      <td>19837</td>\n",
       "    </tr>\n",
       "  </tbody>\n",
       "</table>\n",
       "<p>278 rows × 4 columns</p>\n",
       "</div>"
      ],
      "text/plain": [
       "     year     sex  name  count\n",
       "0    1880  Female  Mary   7065\n",
       "1    1880    Male  John   9655\n",
       "2    1881  Female  Mary   6919\n",
       "3    1881    Male  John   8769\n",
       "4    1882  Female  Mary   8148\n",
       "..    ...     ...   ...    ...\n",
       "273  2016    Male  Noah  19117\n",
       "274  2017  Female  Emma  19800\n",
       "275  2017    Male  Liam  18798\n",
       "276  2018  Female  Emma  18688\n",
       "277  2018    Male  Liam  19837\n",
       "\n",
       "[278 rows x 4 columns]"
      ]
     },
     "execution_count": 8,
     "metadata": {},
     "output_type": "execute_result"
    }
   ],
   "source": [
    "import pandas as pd\n",
    "df = pd.DataFrame(output)\n",
    "df"
   ]
  },
  {
   "cell_type": "code",
   "execution_count": 19,
   "id": "b3e5b5ae",
   "metadata": {},
   "outputs": [
    {
     "name": "stdout",
     "output_type": "stream",
     "text": [
      " * sqlite:///C:\\Users\\bilene\\Downloads\\book.db\n",
      "Done.\n",
      "Returning data to local variable output2\n"
     ]
    }
   ],
   "source": [
    "%%sql\n",
    "output2 <<\n",
    "SELECT * FROM indicators\n",
    "LIMIT 5"
   ]
  },
  {
   "cell_type": "code",
   "execution_count": 20,
   "id": "5290d588",
   "metadata": {},
   "outputs": [
    {
     "data": {
      "text/html": [
       "<div>\n",
       "<style scoped>\n",
       "    .dataframe tbody tr th:only-of-type {\n",
       "        vertical-align: middle;\n",
       "    }\n",
       "\n",
       "    .dataframe tbody tr th {\n",
       "        vertical-align: top;\n",
       "    }\n",
       "\n",
       "    .dataframe thead th {\n",
       "        text-align: right;\n",
       "    }\n",
       "</style>\n",
       "<table border=\"1\" class=\"dataframe\">\n",
       "  <thead>\n",
       "    <tr style=\"text-align: right;\">\n",
       "      <th></th>\n",
       "      <th>year</th>\n",
       "      <th>code</th>\n",
       "      <th>pop</th>\n",
       "      <th>gdp</th>\n",
       "      <th>life</th>\n",
       "      <th>cell</th>\n",
       "      <th>imports</th>\n",
       "      <th>exports</th>\n",
       "    </tr>\n",
       "  </thead>\n",
       "  <tbody>\n",
       "    <tr>\n",
       "      <th>0</th>\n",
       "      <td>1960</td>\n",
       "      <td>ABW</td>\n",
       "      <td>0.05</td>\n",
       "      <td>NaN</td>\n",
       "      <td>65.7</td>\n",
       "      <td>0.0</td>\n",
       "      <td>NaN</td>\n",
       "      <td>NaN</td>\n",
       "    </tr>\n",
       "    <tr>\n",
       "      <th>1</th>\n",
       "      <td>1960</td>\n",
       "      <td>AFG</td>\n",
       "      <td>9.00</td>\n",
       "      <td>0.54</td>\n",
       "      <td>32.3</td>\n",
       "      <td>0.0</td>\n",
       "      <td>NaN</td>\n",
       "      <td>49.9</td>\n",
       "    </tr>\n",
       "    <tr>\n",
       "      <th>2</th>\n",
       "      <td>1960</td>\n",
       "      <td>AGO</td>\n",
       "      <td>5.45</td>\n",
       "      <td>NaN</td>\n",
       "      <td>33.3</td>\n",
       "      <td>0.0</td>\n",
       "      <td>127.5</td>\n",
       "      <td>123.3</td>\n",
       "    </tr>\n",
       "    <tr>\n",
       "      <th>3</th>\n",
       "      <td>1960</td>\n",
       "      <td>ALB</td>\n",
       "      <td>1.61</td>\n",
       "      <td>NaN</td>\n",
       "      <td>62.3</td>\n",
       "      <td>0.0</td>\n",
       "      <td>NaN</td>\n",
       "      <td>NaN</td>\n",
       "    </tr>\n",
       "    <tr>\n",
       "      <th>4</th>\n",
       "      <td>1960</td>\n",
       "      <td>AND</td>\n",
       "      <td>0.01</td>\n",
       "      <td>NaN</td>\n",
       "      <td>NaN</td>\n",
       "      <td>0.0</td>\n",
       "      <td>NaN</td>\n",
       "      <td>NaN</td>\n",
       "    </tr>\n",
       "  </tbody>\n",
       "</table>\n",
       "</div>"
      ],
      "text/plain": [
       "   year code   pop   gdp  life  cell  imports  exports\n",
       "0  1960  ABW  0.05   NaN  65.7   0.0      NaN      NaN\n",
       "1  1960  AFG  9.00  0.54  32.3   0.0      NaN     49.9\n",
       "2  1960  AGO  5.45   NaN  33.3   0.0    127.5    123.3\n",
       "3  1960  ALB  1.61   NaN  62.3   0.0      NaN      NaN\n",
       "4  1960  AND  0.01   NaN   NaN   0.0      NaN      NaN"
      ]
     },
     "execution_count": 20,
     "metadata": {},
     "output_type": "execute_result"
    }
   ],
   "source": [
    "pd.DataFrame(output2) # notice the output has only 5 rows stored"
   ]
  },
  {
   "cell_type": "code",
   "execution_count": 22,
   "id": "f6aeab32",
   "metadata": {},
   "outputs": [
    {
     "name": "stdout",
     "output_type": "stream",
     "text": [
      " * sqlite:///C:\\Users\\bilene\\Downloads\\book.db\n",
      "Done.\n"
     ]
    },
    {
     "data": {
      "text/html": [
       "<table>\n",
       "    <thead>\n",
       "        <tr>\n",
       "            <th>code</th>\n",
       "            <th>pop</th>\n",
       "            <th>gdp</th>\n",
       "            <th>life</th>\n",
       "            <th>cell</th>\n",
       "        </tr>\n",
       "    </thead>\n",
       "    <tbody>\n",
       "        <tr>\n",
       "            <td>CHN</td>\n",
       "            <td>1386.4</td>\n",
       "            <td>12143.5</td>\n",
       "            <td>76.4</td>\n",
       "            <td>1469.88</td>\n",
       "        </tr>\n",
       "        <tr>\n",
       "            <td>FRA</td>\n",
       "            <td>66.87</td>\n",
       "            <td>2586.29</td>\n",
       "            <td>82.5</td>\n",
       "            <td>69.02</td>\n",
       "        </tr>\n",
       "        <tr>\n",
       "            <td>GBR</td>\n",
       "            <td>66.06</td>\n",
       "            <td>2637.87</td>\n",
       "            <td>81.2</td>\n",
       "            <td>79.1</td>\n",
       "        </tr>\n",
       "        <tr>\n",
       "            <td>IND</td>\n",
       "            <td>1338.66</td>\n",
       "            <td>2652.55</td>\n",
       "            <td>68.8</td>\n",
       "            <td>1168.9</td>\n",
       "        </tr>\n",
       "        <tr>\n",
       "            <td>USA</td>\n",
       "            <td>325.15</td>\n",
       "            <td>19485.4</td>\n",
       "            <td>78.5</td>\n",
       "            <td>391.6</td>\n",
       "        </tr>\n",
       "    </tbody>\n",
       "</table>"
      ],
      "text/plain": [
       "[('CHN', 1386.4, 12143.5, 76.4, 1469.88),\n",
       " ('FRA', 66.87, 2586.29, 82.5, 69.02),\n",
       " ('GBR', 66.06, 2637.87, 81.2, 79.1),\n",
       " ('IND', 1338.66, 2652.55, 68.8, 1168.9),\n",
       " ('USA', 325.15, 19485.4, 78.5, 391.6)]"
      ]
     },
     "execution_count": 22,
     "metadata": {},
     "output_type": "execute_result"
    }
   ],
   "source": [
    "%%sql\n",
    "-- Here is a one-line comment\n",
    "/* Here is a multi-line comment\n",
    "which continues here\n",
    "and ends here */\n",
    "SELECT * FROM indicators0"
   ]
  },
  {
   "cell_type": "code",
   "execution_count": 24,
   "id": "5859cc11",
   "metadata": {},
   "outputs": [
    {
     "name": "stdout",
     "output_type": "stream",
     "text": [
      " * sqlite:///C:\\Users\\bilene\\Downloads\\book.db\n",
      "Done.\n"
     ]
    },
    {
     "data": {
      "text/html": [
       "<table>\n",
       "    <thead>\n",
       "        <tr>\n",
       "            <th>name</th>\n",
       "        </tr>\n",
       "    </thead>\n",
       "    <tbody>\n",
       "        <tr>\n",
       "            <td>countries</td>\n",
       "        </tr>\n",
       "        <tr>\n",
       "            <td>indicators</td>\n",
       "        </tr>\n",
       "        <tr>\n",
       "            <td>indicators0</td>\n",
       "        </tr>\n",
       "        <tr>\n",
       "            <td>topnames</td>\n",
       "        </tr>\n",
       "    </tbody>\n",
       "</table>"
      ],
      "text/plain": [
       "[('countries',), ('indicators',), ('indicators0',), ('topnames',)]"
      ]
     },
     "execution_count": 24,
     "metadata": {},
     "output_type": "execute_result"
    }
   ],
   "source": [
    "%%sql\n",
    "SELECT name FROM sqlite_master\n",
    "WHERE type='table'"
   ]
  },
  {
   "cell_type": "code",
   "execution_count": 25,
   "id": "23b79f03",
   "metadata": {},
   "outputs": [
    {
     "name": "stdout",
     "output_type": "stream",
     "text": [
      " * sqlite:///C:\\Users\\bilene\\Downloads\\book.db\n",
      "Done.\n"
     ]
    },
    {
     "data": {
      "text/html": [
       "<table>\n",
       "    <thead>\n",
       "        <tr>\n",
       "            <th>code</th>\n",
       "            <th>country</th>\n",
       "            <th>region</th>\n",
       "            <th>income</th>\n",
       "            <th>land</th>\n",
       "        </tr>\n",
       "    </thead>\n",
       "    <tbody>\n",
       "        <tr>\n",
       "            <td>ABW</td>\n",
       "            <td>Aruba</td>\n",
       "            <td>Latin America &amp; Caribbean</td>\n",
       "            <td>High income</td>\n",
       "            <td>180.0</td>\n",
       "        </tr>\n",
       "        <tr>\n",
       "            <td>AFG</td>\n",
       "            <td>Afghanistan</td>\n",
       "            <td>South Asia</td>\n",
       "            <td>Low income</td>\n",
       "            <td>652860.0</td>\n",
       "        </tr>\n",
       "        <tr>\n",
       "            <td>AGO</td>\n",
       "            <td>Angola</td>\n",
       "            <td>Sub-Saharan Africa</td>\n",
       "            <td>Lower middle income</td>\n",
       "            <td>1246700.0</td>\n",
       "        </tr>\n",
       "        <tr>\n",
       "            <td>ALB</td>\n",
       "            <td>Albania</td>\n",
       "            <td>Europe &amp; Central Asia</td>\n",
       "            <td>Upper middle income</td>\n",
       "            <td>27400.0</td>\n",
       "        </tr>\n",
       "        <tr>\n",
       "            <td>AND</td>\n",
       "            <td>Andorra</td>\n",
       "            <td>Europe &amp; Central Asia</td>\n",
       "            <td>High income</td>\n",
       "            <td>470.0</td>\n",
       "        </tr>\n",
       "    </tbody>\n",
       "</table>"
      ],
      "text/plain": [
       "[('ABW', 'Aruba', 'Latin America & Caribbean', 'High income', 180.0),\n",
       " ('AFG', 'Afghanistan', 'South Asia', 'Low income', 652860.0),\n",
       " ('AGO', 'Angola', 'Sub-Saharan Africa', 'Lower middle income', 1246700.0),\n",
       " ('ALB', 'Albania', 'Europe & Central Asia', 'Upper middle income', 27400.0),\n",
       " ('AND', 'Andorra', 'Europe & Central Asia', 'High income', 470.0)]"
      ]
     },
     "execution_count": 25,
     "metadata": {},
     "output_type": "execute_result"
    }
   ],
   "source": [
    "%%sql\n",
    "--Explore tables\n",
    "SELECT * FROM countries\n",
    "LIMIT 5"
   ]
  },
  {
   "cell_type": "code",
   "execution_count": 26,
   "id": "e64063d5",
   "metadata": {},
   "outputs": [
    {
     "name": "stdout",
     "output_type": "stream",
     "text": [
      " * sqlite:///C:\\Users\\bilene\\Downloads\\book.db\n",
      "Done.\n"
     ]
    },
    {
     "data": {
      "text/html": [
       "<table>\n",
       "    <thead>\n",
       "        <tr>\n",
       "            <th>year</th>\n",
       "            <th>code</th>\n",
       "            <th>pop</th>\n",
       "            <th>gdp</th>\n",
       "            <th>life</th>\n",
       "            <th>cell</th>\n",
       "            <th>imports</th>\n",
       "            <th>exports</th>\n",
       "        </tr>\n",
       "    </thead>\n",
       "    <tbody>\n",
       "        <tr>\n",
       "            <td>1960</td>\n",
       "            <td>ABW</td>\n",
       "            <td>0.05</td>\n",
       "            <td>None</td>\n",
       "            <td>65.7</td>\n",
       "            <td>0.0</td>\n",
       "            <td>None</td>\n",
       "            <td>None</td>\n",
       "        </tr>\n",
       "        <tr>\n",
       "            <td>1960</td>\n",
       "            <td>AFG</td>\n",
       "            <td>9.0</td>\n",
       "            <td>0.54</td>\n",
       "            <td>32.3</td>\n",
       "            <td>0.0</td>\n",
       "            <td>None</td>\n",
       "            <td>49.9</td>\n",
       "        </tr>\n",
       "        <tr>\n",
       "            <td>1960</td>\n",
       "            <td>AGO</td>\n",
       "            <td>5.45</td>\n",
       "            <td>None</td>\n",
       "            <td>33.3</td>\n",
       "            <td>0.0</td>\n",
       "            <td>127.5</td>\n",
       "            <td>123.3</td>\n",
       "        </tr>\n",
       "        <tr>\n",
       "            <td>1960</td>\n",
       "            <td>ALB</td>\n",
       "            <td>1.61</td>\n",
       "            <td>None</td>\n",
       "            <td>62.3</td>\n",
       "            <td>0.0</td>\n",
       "            <td>None</td>\n",
       "            <td>None</td>\n",
       "        </tr>\n",
       "        <tr>\n",
       "            <td>1960</td>\n",
       "            <td>AND</td>\n",
       "            <td>0.01</td>\n",
       "            <td>None</td>\n",
       "            <td>None</td>\n",
       "            <td>0.0</td>\n",
       "            <td>None</td>\n",
       "            <td>None</td>\n",
       "        </tr>\n",
       "    </tbody>\n",
       "</table>"
      ],
      "text/plain": [
       "[(1960, 'ABW', 0.05, None, 65.7, 0.0, None, None),\n",
       " (1960, 'AFG', 9.0, 0.54, 32.3, 0.0, None, 49.9),\n",
       " (1960, 'AGO', 5.45, None, 33.3, 0.0, 127.5, 123.3),\n",
       " (1960, 'ALB', 1.61, None, 62.3, 0.0, None, None),\n",
       " (1960, 'AND', 0.01, None, None, 0.0, None, None)]"
      ]
     },
     "execution_count": 26,
     "metadata": {},
     "output_type": "execute_result"
    }
   ],
   "source": [
    "%%sql\n",
    "--Explore tables\n",
    "SELECT * FROM indicators\n",
    "LIMIT 5"
   ]
  },
  {
   "cell_type": "code",
   "execution_count": null,
   "id": "bb7e3292",
   "metadata": {},
   "outputs": [],
   "source": []
  }
 ],
 "metadata": {
  "kernelspec": {
   "display_name": "Python 3 (ipykernel)",
   "language": "python",
   "name": "python3"
  },
  "language_info": {
   "codemirror_mode": {
    "name": "ipython",
    "version": 3
   },
   "file_extension": ".py",
   "mimetype": "text/x-python",
   "name": "python",
   "nbconvert_exporter": "python",
   "pygments_lexer": "ipython3",
   "version": "3.9.16"
  }
 },
 "nbformat": 4,
 "nbformat_minor": 5
}
