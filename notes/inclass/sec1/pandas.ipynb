{
 "cells": [
  {
   "cell_type": "code",
   "execution_count": 59,
   "id": "8764a3b0",
   "metadata": {},
   "outputs": [],
   "source": [
    "# DoL\n",
    "topnames = {'year':[2018,2018,2017,2017,2016,2016],\n",
    "           'sex':['Male','Female','Male','Female','Male','Female'],\n",
    "           'name':['Liam','Emma','Liam','Emma','Noah','Emma'],\n",
    "           'count':[19837,18688,18798,19800,19117,1996]}"
   ]
  },
  {
   "cell_type": "code",
   "execution_count": 60,
   "id": "4bdde953",
   "metadata": {},
   "outputs": [
    {
     "data": {
      "text/plain": [
       "{'year': [2018, 2018, 2017, 2017, 2016, 2016],\n",
       " 'sex': ['Male', 'Female', 'Male', 'Female', 'Male', 'Female'],\n",
       " 'name': ['Liam', 'Emma', 'Liam', 'Emma', 'Noah', 'Emma'],\n",
       " 'count': [19837, 18688, 18798, 19800, 19117, 1996]}"
      ]
     },
     "execution_count": 60,
     "metadata": {},
     "output_type": "execute_result"
    }
   ],
   "source": [
    "topnames"
   ]
  },
  {
   "cell_type": "code",
   "execution_count": 61,
   "id": "3881b756",
   "metadata": {},
   "outputs": [
    {
     "data": {
      "text/plain": [
       "[2018, 2018, 2017, 2017, 2016, 2016]"
      ]
     },
     "execution_count": 61,
     "metadata": {},
     "output_type": "execute_result"
    }
   ],
   "source": [
    "topnames['year']"
   ]
  },
  {
   "cell_type": "code",
   "execution_count": 62,
   "id": "16437c14",
   "metadata": {},
   "outputs": [
    {
     "data": {
      "text/plain": [
       "[2017, 'Female', 'Emma', 19800]"
      ]
     },
     "execution_count": 62,
     "metadata": {},
     "output_type": "execute_result"
    }
   ],
   "source": [
    "[topnames['year'][3],topnames['sex'][3],topnames['name'][3],topnames['count'][3]]"
   ]
  },
  {
   "cell_type": "code",
   "execution_count": 69,
   "id": "970f3012",
   "metadata": {},
   "outputs": [
    {
     "data": {
      "text/plain": [
       "2017"
      ]
     },
     "execution_count": 69,
     "metadata": {},
     "output_type": "execute_result"
    }
   ],
   "source": [
    "mylist = []\n",
    "for x in topnames.values():\n",
    "    mylist.append(x[3])\n",
    "    \n",
    "mylist[0]"
   ]
  },
  {
   "cell_type": "code",
   "execution_count": 40,
   "id": "7c79d89d",
   "metadata": {},
   "outputs": [],
   "source": [
    "# LoL\n",
    "topnames = [[2018,'Male','Liam',19837],\n",
    "           [2018,'Female','Emma',18688],\n",
    "           [2017,'Male','Liam',18798],\n",
    "           [2017,'Female','Emma',19800],\n",
    "           [2016,'Male','Noah',19117],\n",
    "           [2016,'Female','Emma',19496]]"
   ]
  },
  {
   "cell_type": "code",
   "execution_count": 35,
   "id": "a4ef51d0",
   "metadata": {},
   "outputs": [
    {
     "data": {
      "text/plain": [
       "[2017, 'Female', 'Emma', 19800]"
      ]
     },
     "execution_count": 35,
     "metadata": {},
     "output_type": "execute_result"
    }
   ],
   "source": [
    "topnames[3]"
   ]
  },
  {
   "cell_type": "code",
   "execution_count": 42,
   "id": "0a1b5ff0",
   "metadata": {},
   "outputs": [
    {
     "data": {
      "text/plain": [
       "[2018, 2018, 2017, 2017, 2016, 2016]"
      ]
     },
     "execution_count": 42,
     "metadata": {},
     "output_type": "execute_result"
    }
   ],
   "source": [
    "my_row = []\n",
    "# return the year col\n",
    "for i in range(len(topnames)):\n",
    "    my_row.append(topnames[i][0])\n",
    "my_row"
   ]
  },
  {
   "cell_type": "code",
   "execution_count": 47,
   "id": "b3dcafd3",
   "metadata": {},
   "outputs": [
    {
     "data": {
      "text/html": [
       "<div>\n",
       "<style scoped>\n",
       "    .dataframe tbody tr th:only-of-type {\n",
       "        vertical-align: middle;\n",
       "    }\n",
       "\n",
       "    .dataframe tbody tr th {\n",
       "        vertical-align: top;\n",
       "    }\n",
       "\n",
       "    .dataframe thead th {\n",
       "        text-align: right;\n",
       "    }\n",
       "</style>\n",
       "<table border=\"1\" class=\"dataframe\">\n",
       "  <thead>\n",
       "    <tr style=\"text-align: right;\">\n",
       "      <th></th>\n",
       "      <th>year</th>\n",
       "      <th>sex</th>\n",
       "      <th>name</th>\n",
       "      <th>count</th>\n",
       "    </tr>\n",
       "  </thead>\n",
       "  <tbody>\n",
       "    <tr>\n",
       "      <th>0</th>\n",
       "      <td>2018</td>\n",
       "      <td>Male</td>\n",
       "      <td>Liam</td>\n",
       "      <td>19837</td>\n",
       "    </tr>\n",
       "    <tr>\n",
       "      <th>1</th>\n",
       "      <td>2018</td>\n",
       "      <td>Female</td>\n",
       "      <td>Emma</td>\n",
       "      <td>18688</td>\n",
       "    </tr>\n",
       "    <tr>\n",
       "      <th>2</th>\n",
       "      <td>2017</td>\n",
       "      <td>Male</td>\n",
       "      <td>Liam</td>\n",
       "      <td>18798</td>\n",
       "    </tr>\n",
       "    <tr>\n",
       "      <th>3</th>\n",
       "      <td>2017</td>\n",
       "      <td>Female</td>\n",
       "      <td>Emma</td>\n",
       "      <td>19800</td>\n",
       "    </tr>\n",
       "    <tr>\n",
       "      <th>4</th>\n",
       "      <td>2016</td>\n",
       "      <td>Male</td>\n",
       "      <td>Noah</td>\n",
       "      <td>19117</td>\n",
       "    </tr>\n",
       "    <tr>\n",
       "      <th>5</th>\n",
       "      <td>2016</td>\n",
       "      <td>Female</td>\n",
       "      <td>Emma</td>\n",
       "      <td>19496</td>\n",
       "    </tr>\n",
       "  </tbody>\n",
       "</table>\n",
       "</div>"
      ],
      "text/plain": [
       "   year     sex  name  count\n",
       "0  2018    Male  Liam  19837\n",
       "1  2018  Female  Emma  18688\n",
       "2  2017    Male  Liam  18798\n",
       "3  2017  Female  Emma  19800\n",
       "4  2016    Male  Noah  19117\n",
       "5  2016  Female  Emma  19496"
      ]
     },
     "execution_count": 47,
     "metadata": {},
     "output_type": "execute_result"
    }
   ],
   "source": [
    "# work with pandas instead\n",
    "import pandas as pd\n",
    "# Pandas dataframe\n",
    "df = pd.DataFrame(topnames,columns=['year','sex','name','count'])\n",
    "df"
   ]
  },
  {
   "cell_type": "code",
   "execution_count": 49,
   "id": "f2d135e5",
   "metadata": {},
   "outputs": [
    {
     "name": "stdout",
     "output_type": "stream",
     "text": [
      "0    2018\n",
      "1    2018\n",
      "2    2017\n",
      "3    2017\n",
      "4    2016\n",
      "5    2016\n",
      "Name: year, dtype: int64\n",
      "0    2018\n",
      "1    2018\n",
      "2    2017\n",
      "3    2017\n",
      "4    2016\n",
      "5    2016\n",
      "Name: year, dtype: int64\n"
     ]
    }
   ],
   "source": [
    "# very easy to access cols\n",
    "print(df.iloc[:,0]) # returns the year col using index location\n",
    "print(df['year']) # likewise, but using col name"
   ]
  },
  {
   "cell_type": "code",
   "execution_count": 51,
   "id": "a2d3d35c",
   "metadata": {},
   "outputs": [
    {
     "data": {
      "text/plain": [
       "year       2017\n",
       "sex      Female\n",
       "name       Emma\n",
       "count     19800\n",
       "Name: 3, dtype: object"
      ]
     },
     "execution_count": 51,
     "metadata": {},
     "output_type": "execute_result"
    }
   ],
   "source": [
    "# very easy to access rows too!\n",
    "df.iloc[3,:]"
   ]
  },
  {
   "cell_type": "code",
   "execution_count": 53,
   "id": "b85dbf63",
   "metadata": {},
   "outputs": [
    {
     "name": "stdout",
     "output_type": "stream",
     "text": [
      "2017\n",
      "2017\n"
     ]
    }
   ],
   "source": [
    "print(df.iloc[3,:][0]) # data in row 3 col 1\n",
    "print(df['year'][3]) # same info"
   ]
  },
  {
   "cell_type": "code",
   "execution_count": 54,
   "id": "c8aa24cd",
   "metadata": {},
   "outputs": [
    {
     "data": {
      "text/plain": [
       "pandas.core.frame.DataFrame"
      ]
     },
     "execution_count": 54,
     "metadata": {},
     "output_type": "execute_result"
    }
   ],
   "source": [
    "type(df) # df is a DataFrame object"
   ]
  },
  {
   "cell_type": "code",
   "execution_count": 56,
   "id": "574dcd73",
   "metadata": {},
   "outputs": [
    {
     "data": {
      "text/plain": [
       "pandas.core.series.Series"
      ]
     },
     "execution_count": 56,
     "metadata": {},
     "output_type": "execute_result"
    }
   ],
   "source": [
    "type(df['year']) # Pandas Series are arrays like in numpy"
   ]
  },
  {
   "cell_type": "code",
   "execution_count": 58,
   "id": "47fc8410",
   "metadata": {},
   "outputs": [
    {
     "data": {
      "text/plain": [
       "0    4036\n",
       "1    4036\n",
       "2    4034\n",
       "3    4034\n",
       "4    4032\n",
       "5    4032\n",
       "Name: year, dtype: int64"
      ]
     },
     "execution_count": 58,
     "metadata": {},
     "output_type": "execute_result"
    }
   ],
   "source": [
    "df['year']*2 # broadcasting here works because pandas is built on numpy"
   ]
  },
  {
   "cell_type": "code",
   "execution_count": 3,
   "id": "026ffd9f",
   "metadata": {},
   "outputs": [
    {
     "data": {
      "text/html": [
       "<div>\n",
       "<style scoped>\n",
       "    .dataframe tbody tr th:only-of-type {\n",
       "        vertical-align: middle;\n",
       "    }\n",
       "\n",
       "    .dataframe tbody tr th {\n",
       "        vertical-align: top;\n",
       "    }\n",
       "\n",
       "    .dataframe thead th {\n",
       "        text-align: right;\n",
       "    }\n",
       "</style>\n",
       "<table border=\"1\" class=\"dataframe\">\n",
       "  <thead>\n",
       "    <tr style=\"text-align: right;\">\n",
       "      <th></th>\n",
       "      <th>name</th>\n",
       "      <th>breed</th>\n",
       "      <th>color</th>\n",
       "      <th>height_cm</th>\n",
       "      <th>weight_kg</th>\n",
       "      <th>date_of_birth</th>\n",
       "    </tr>\n",
       "  </thead>\n",
       "  <tbody>\n",
       "    <tr>\n",
       "      <th>0</th>\n",
       "      <td>Bella</td>\n",
       "      <td>Labrador</td>\n",
       "      <td>Brown</td>\n",
       "      <td>56</td>\n",
       "      <td>24</td>\n",
       "      <td>2013-07-01</td>\n",
       "    </tr>\n",
       "    <tr>\n",
       "      <th>1</th>\n",
       "      <td>Charlie</td>\n",
       "      <td>Poodle</td>\n",
       "      <td>Black</td>\n",
       "      <td>43</td>\n",
       "      <td>24</td>\n",
       "      <td>2016-09-16</td>\n",
       "    </tr>\n",
       "    <tr>\n",
       "      <th>2</th>\n",
       "      <td>Lucy</td>\n",
       "      <td>ChowChow</td>\n",
       "      <td>Brown</td>\n",
       "      <td>46</td>\n",
       "      <td>24</td>\n",
       "      <td>2014-08-25</td>\n",
       "    </tr>\n",
       "    <tr>\n",
       "      <th>3</th>\n",
       "      <td>Coooper</td>\n",
       "      <td>Schnauzer</td>\n",
       "      <td>Gray</td>\n",
       "      <td>49</td>\n",
       "      <td>17</td>\n",
       "      <td>2011-12-11</td>\n",
       "    </tr>\n",
       "    <tr>\n",
       "      <th>4</th>\n",
       "      <td>Max</td>\n",
       "      <td>Labrador</td>\n",
       "      <td>Black</td>\n",
       "      <td>59</td>\n",
       "      <td>29</td>\n",
       "      <td>2017-01-28</td>\n",
       "    </tr>\n",
       "    <tr>\n",
       "      <th>5</th>\n",
       "      <td>Stella</td>\n",
       "      <td>Chihuahua</td>\n",
       "      <td>Tan</td>\n",
       "      <td>18</td>\n",
       "      <td>2</td>\n",
       "      <td>2015-04-20</td>\n",
       "    </tr>\n",
       "    <tr>\n",
       "      <th>6</th>\n",
       "      <td>Bernie</td>\n",
       "      <td>St.Bernard</td>\n",
       "      <td>White</td>\n",
       "      <td>77</td>\n",
       "      <td>74</td>\n",
       "      <td>2018-02-27</td>\n",
       "    </tr>\n",
       "  </tbody>\n",
       "</table>\n",
       "</div>"
      ],
      "text/plain": [
       "      name       breed  color  height_cm  weight_kg date_of_birth\n",
       "0    Bella    Labrador  Brown         56         24    2013-07-01\n",
       "1  Charlie      Poodle  Black         43         24    2016-09-16\n",
       "2     Lucy    ChowChow  Brown         46         24    2014-08-25\n",
       "3  Coooper   Schnauzer   Gray         49         17    2011-12-11\n",
       "4      Max    Labrador  Black         59         29    2017-01-28\n",
       "5   Stella   Chihuahua    Tan         18          2    2015-04-20\n",
       "6   Bernie  St.Bernard  White         77         74    2018-02-27"
      ]
     },
     "execution_count": 3,
     "metadata": {},
     "output_type": "execute_result"
    }
   ],
   "source": [
    "import pandas as pd\n",
    "# data about dogs, as DoL\n",
    "DataDoL={'name':['Bella','Charlie','Lucy','Coooper','Max','Stella','Bernie'], \n",
    " 'breed':['Labrador','Poodle','ChowChow','Schnauzer','Labrador',\n",
    " 'Chihuahua','St.Bernard'],\n",
    " 'color': ['Brown','Black','Brown','Gray','Black','Tan','White'],\n",
    " 'height_cm':[56,43,46,49,59,18,77],\n",
    " 'weight_kg':[24,24,24,17,29,2,74],\n",
    " 'date_of_birth':['2013-07-01','2016-09-16','2014-08-25',\n",
    " '2011-12-11','2017-01-28','2015-04-20',\n",
    " '2018-02-27']}\n",
    "\n",
    "df = pd.DataFrame(DataDoL)\n",
    "df"
   ]
  },
  {
   "cell_type": "code",
   "execution_count": 5,
   "id": "8aa6176f",
   "metadata": {},
   "outputs": [
    {
     "name": "stdout",
     "output_type": "stream",
     "text": [
      "<class 'pandas.core.frame.DataFrame'>\n",
      "RangeIndex: 7 entries, 0 to 6\n",
      "Data columns (total 6 columns):\n",
      " #   Column         Non-Null Count  Dtype \n",
      "---  ------         --------------  ----- \n",
      " 0   name           7 non-null      object\n",
      " 1   breed          7 non-null      object\n",
      " 2   color          7 non-null      object\n",
      " 3   height_cm      7 non-null      int64 \n",
      " 4   weight_kg      7 non-null      int64 \n",
      " 5   date_of_birth  7 non-null      object\n",
      "dtypes: int64(2), object(4)\n",
      "memory usage: 464.0+ bytes\n"
     ]
    }
   ],
   "source": [
    "df.info() # gives you bunch of useful info about your df object"
   ]
  },
  {
   "cell_type": "code",
   "execution_count": 6,
   "id": "33a43b77",
   "metadata": {},
   "outputs": [
    {
     "data": {
      "text/html": [
       "<div>\n",
       "<style scoped>\n",
       "    .dataframe tbody tr th:only-of-type {\n",
       "        vertical-align: middle;\n",
       "    }\n",
       "\n",
       "    .dataframe tbody tr th {\n",
       "        vertical-align: top;\n",
       "    }\n",
       "\n",
       "    .dataframe thead th {\n",
       "        text-align: right;\n",
       "    }\n",
       "</style>\n",
       "<table border=\"1\" class=\"dataframe\">\n",
       "  <thead>\n",
       "    <tr style=\"text-align: right;\">\n",
       "      <th></th>\n",
       "      <th>height_cm</th>\n",
       "      <th>weight_kg</th>\n",
       "    </tr>\n",
       "  </thead>\n",
       "  <tbody>\n",
       "    <tr>\n",
       "      <th>count</th>\n",
       "      <td>7.000000</td>\n",
       "      <td>7.000000</td>\n",
       "    </tr>\n",
       "    <tr>\n",
       "      <th>mean</th>\n",
       "      <td>49.714286</td>\n",
       "      <td>27.714286</td>\n",
       "    </tr>\n",
       "    <tr>\n",
       "      <th>std</th>\n",
       "      <td>17.960274</td>\n",
       "      <td>22.216468</td>\n",
       "    </tr>\n",
       "    <tr>\n",
       "      <th>min</th>\n",
       "      <td>18.000000</td>\n",
       "      <td>2.000000</td>\n",
       "    </tr>\n",
       "    <tr>\n",
       "      <th>25%</th>\n",
       "      <td>44.500000</td>\n",
       "      <td>20.500000</td>\n",
       "    </tr>\n",
       "    <tr>\n",
       "      <th>50%</th>\n",
       "      <td>49.000000</td>\n",
       "      <td>24.000000</td>\n",
       "    </tr>\n",
       "    <tr>\n",
       "      <th>75%</th>\n",
       "      <td>57.500000</td>\n",
       "      <td>26.500000</td>\n",
       "    </tr>\n",
       "    <tr>\n",
       "      <th>max</th>\n",
       "      <td>77.000000</td>\n",
       "      <td>74.000000</td>\n",
       "    </tr>\n",
       "  </tbody>\n",
       "</table>\n",
       "</div>"
      ],
      "text/plain": [
       "       height_cm  weight_kg\n",
       "count   7.000000   7.000000\n",
       "mean   49.714286  27.714286\n",
       "std    17.960274  22.216468\n",
       "min    18.000000   2.000000\n",
       "25%    44.500000  20.500000\n",
       "50%    49.000000  24.000000\n",
       "75%    57.500000  26.500000\n",
       "max    77.000000  74.000000"
      ]
     },
     "execution_count": 6,
     "metadata": {},
     "output_type": "execute_result"
    }
   ],
   "source": [
    "df.describe() # bunch of useful stats to look at, also exist in R"
   ]
  },
  {
   "cell_type": "code",
   "execution_count": 12,
   "id": "ed877285",
   "metadata": {},
   "outputs": [
    {
     "name": "stdout",
     "output_type": "stream",
     "text": [
      "RangeIndex(start=0, stop=7, step=1)\n",
      "0      Bella\n",
      "1    Charlie\n",
      "2       Lucy\n",
      "3    Coooper\n",
      "4        Max\n",
      "5     Stella\n",
      "6     Bernie\n",
      "Name: name, dtype: object\n",
      "0      Bella\n",
      "1    Charlie\n",
      "2       Lucy\n",
      "3    Coooper\n",
      "4        Max\n",
      "5     Stella\n",
      "6     Bernie\n",
      "Name: name, dtype: object\n"
     ]
    }
   ],
   "source": [
    "# row index?\n",
    "print(df.index) # returns the row index\n",
    "\n",
    "# choosing cols\n",
    "print(df['name'])\n",
    "print(df.name) # equivalent to above. but only if your col name consists of characters excluding whitespace, dashes etc.\n",
    "df.index = df.name"
   ]
  },
  {
   "cell_type": "code",
   "execution_count": 17,
   "id": "59f1b637",
   "metadata": {},
   "outputs": [
    {
     "name": "stdout",
     "output_type": "stream",
     "text": [
      "            name       breed  color  height_cm  weight_kg date_of_birth\n",
      "name                                                                   \n",
      "Bella      Bella    Labrador  Brown         56         24    2013-07-01\n",
      "Charlie  Charlie      Poodle  Black         43         24    2016-09-16\n",
      "Lucy        Lucy    ChowChow  Brown         46         24    2014-08-25\n",
      "Coooper  Coooper   Schnauzer   Gray         49         17    2011-12-11\n",
      "Max          Max    Labrador  Black         59         29    2017-01-28\n",
      "Stella    Stella   Chihuahua    Tan         18          2    2015-04-20\n",
      "Bernie    Bernie  St.Bernard  White         77         74    2018-02-27\n",
      "              breed  color  height_cm  weight_kg date_of_birth\n",
      "name                                                          \n",
      "Bella      Labrador  Brown         56         24    2013-07-01\n",
      "Charlie      Poodle  Black         43         24    2016-09-16\n",
      "Lucy       ChowChow  Brown         46         24    2014-08-25\n",
      "Coooper   Schnauzer   Gray         49         17    2011-12-11\n",
      "Max        Labrador  Black         59         29    2017-01-28\n",
      "Stella    Chihuahua    Tan         18          2    2015-04-20\n",
      "Bernie   St.Bernard  White         77         74    2018-02-27\n"
     ]
    }
   ],
   "source": [
    "print(df) # notice name col is a duplicate and redundant col now, so how to delete?\n",
    "#del df['name'] # does the job but not recommended because it's not the pandas way of doing it\n",
    "df = df.drop(columns=['name']) # use this syntax, it does not overwrite, so you'd need to assign to your df\n",
    "print(df)"
   ]
  },
  {
   "cell_type": "code",
   "execution_count": null,
   "id": "f71b2d77",
   "metadata": {},
   "outputs": [],
   "source": [
    "# accesing values in a df\n",
    "# iloc method uses index location\n",
    "# loc method can use string"
   ]
  },
  {
   "cell_type": "code",
   "execution_count": 20,
   "id": "aaf13745",
   "metadata": {},
   "outputs": [
    {
     "data": {
      "text/plain": [
       "breed              Labrador\n",
       "color                 Brown\n",
       "height_cm                56\n",
       "weight_kg                24\n",
       "date_of_birth    2013-07-01\n",
       "Name: Bella, dtype: object"
      ]
     },
     "execution_count": 20,
     "metadata": {},
     "output_type": "execute_result"
    }
   ],
   "source": [
    "df.loc['Bella'] # works because names are set up as row index"
   ]
  },
  {
   "cell_type": "code",
   "execution_count": 21,
   "id": "dd79651d",
   "metadata": {},
   "outputs": [
    {
     "data": {
      "text/plain": [
       "(7, 5)"
      ]
     },
     "execution_count": 21,
     "metadata": {},
     "output_type": "execute_result"
    }
   ],
   "source": [
    "df.shape # returns that our df has 7 rows and 5 cols"
   ]
  },
  {
   "cell_type": "code",
   "execution_count": 31,
   "id": "3abdd182",
   "metadata": {},
   "outputs": [
    {
     "name": "stdout",
     "output_type": "stream",
     "text": [
      "             breed  color  height_cm  weight_kg date_of_birth\n",
      "name                                                         \n",
      "Bella     Labrador  Brown         56         24    2013-07-01\n",
      "Max       Labrador  Black         59         29    2017-01-28\n",
      "Bernie  St.Bernard  White         77         74    2018-02-27\n",
      "              breed  color  height_cm  weight_kg date_of_birth\n",
      "name                                                          \n",
      "Charlie      Poodle  Black         43         24    2016-09-16\n",
      "Max        Labrador  Black         59         29    2017-01-28\n",
      "Stella    Chihuahua    Tan         18          2    2015-04-20\n",
      "Bernie   St.Bernard  White         77         74    2018-02-27\n"
     ]
    }
   ],
   "source": [
    "# filtering data, \n",
    "print(df[df.height_cm>50]) # filtering based on a numeric column\n",
    "# in R: df[df$height_cm>50], dplyr: df %>% filter(height_cm>50)\n",
    "print(df[df.date_of_birth>'2015-01-01'])# filtering based on a date, 2015-01-01"
   ]
  },
  {
   "cell_type": "code",
   "execution_count": null,
   "id": "44a9e3af",
   "metadata": {},
   "outputs": [],
   "source": [
    "# btw, is date_of_birth col string?\n",
    "print(type(df.date_of_birth[0])) # it is string\n",
    "\n",
    "# selecting cols\n",
    "print(df.breed) # or\n",
    "#df['breed']\n",
    "# in R df$name or in dpylr: df %>% select(name)"
   ]
  },
  {
   "cell_type": "code",
   "execution_count": 32,
   "id": "02fc7b27",
   "metadata": {},
   "outputs": [
    {
     "data": {
      "text/html": [
       "<div>\n",
       "<style scoped>\n",
       "    .dataframe tbody tr th:only-of-type {\n",
       "        vertical-align: middle;\n",
       "    }\n",
       "\n",
       "    .dataframe tbody tr th {\n",
       "        vertical-align: top;\n",
       "    }\n",
       "\n",
       "    .dataframe thead th {\n",
       "        text-align: right;\n",
       "    }\n",
       "</style>\n",
       "<table border=\"1\" class=\"dataframe\">\n",
       "  <thead>\n",
       "    <tr style=\"text-align: right;\">\n",
       "      <th></th>\n",
       "      <th>breed</th>\n",
       "      <th>color</th>\n",
       "      <th>height_cm</th>\n",
       "      <th>weight_kg</th>\n",
       "      <th>date_of_birth</th>\n",
       "    </tr>\n",
       "    <tr>\n",
       "      <th>name</th>\n",
       "      <th></th>\n",
       "      <th></th>\n",
       "      <th></th>\n",
       "      <th></th>\n",
       "      <th></th>\n",
       "    </tr>\n",
       "  </thead>\n",
       "  <tbody>\n",
       "    <tr>\n",
       "      <th>Bella</th>\n",
       "      <td>Labrador</td>\n",
       "      <td>Brown</td>\n",
       "      <td>56</td>\n",
       "      <td>24</td>\n",
       "      <td>2013-07-01</td>\n",
       "    </tr>\n",
       "    <tr>\n",
       "      <th>Charlie</th>\n",
       "      <td>Poodle</td>\n",
       "      <td>Black</td>\n",
       "      <td>43</td>\n",
       "      <td>24</td>\n",
       "      <td>2016-09-16</td>\n",
       "    </tr>\n",
       "    <tr>\n",
       "      <th>Lucy</th>\n",
       "      <td>ChowChow</td>\n",
       "      <td>Brown</td>\n",
       "      <td>46</td>\n",
       "      <td>24</td>\n",
       "      <td>2014-08-25</td>\n",
       "    </tr>\n",
       "    <tr>\n",
       "      <th>Coooper</th>\n",
       "      <td>Schnauzer</td>\n",
       "      <td>Gray</td>\n",
       "      <td>49</td>\n",
       "      <td>17</td>\n",
       "      <td>2011-12-11</td>\n",
       "    </tr>\n",
       "    <tr>\n",
       "      <th>Max</th>\n",
       "      <td>Labrador</td>\n",
       "      <td>Black</td>\n",
       "      <td>59</td>\n",
       "      <td>29</td>\n",
       "      <td>2017-01-28</td>\n",
       "    </tr>\n",
       "    <tr>\n",
       "      <th>Stella</th>\n",
       "      <td>Chihuahua</td>\n",
       "      <td>Tan</td>\n",
       "      <td>18</td>\n",
       "      <td>2</td>\n",
       "      <td>2015-04-20</td>\n",
       "    </tr>\n",
       "    <tr>\n",
       "      <th>Bernie</th>\n",
       "      <td>St.Bernard</td>\n",
       "      <td>White</td>\n",
       "      <td>77</td>\n",
       "      <td>74</td>\n",
       "      <td>2018-02-27</td>\n",
       "    </tr>\n",
       "  </tbody>\n",
       "</table>\n",
       "</div>"
      ],
      "text/plain": [
       "              breed  color  height_cm  weight_kg date_of_birth\n",
       "name                                                          \n",
       "Bella      Labrador  Brown         56         24    2013-07-01\n",
       "Charlie      Poodle  Black         43         24    2016-09-16\n",
       "Lucy       ChowChow  Brown         46         24    2014-08-25\n",
       "Coooper   Schnauzer   Gray         49         17    2011-12-11\n",
       "Max        Labrador  Black         59         29    2017-01-28\n",
       "Stella    Chihuahua    Tan         18          2    2015-04-20\n",
       "Bernie   St.Bernard  White         77         74    2018-02-27"
      ]
     },
     "execution_count": 32,
     "metadata": {},
     "output_type": "execute_result"
    }
   ],
   "source": [
    "df"
   ]
  },
  {
   "cell_type": "code",
   "execution_count": 68,
   "id": "4df8defd",
   "metadata": {},
   "outputs": [
    {
     "data": {
      "text/html": [
       "<div>\n",
       "<style scoped>\n",
       "    .dataframe tbody tr th:only-of-type {\n",
       "        vertical-align: middle;\n",
       "    }\n",
       "\n",
       "    .dataframe tbody tr th {\n",
       "        vertical-align: top;\n",
       "    }\n",
       "\n",
       "    .dataframe thead th {\n",
       "        text-align: right;\n",
       "    }\n",
       "</style>\n",
       "<table border=\"1\" class=\"dataframe\">\n",
       "  <thead>\n",
       "    <tr style=\"text-align: right;\">\n",
       "      <th></th>\n",
       "      <th>breed</th>\n",
       "      <th>color</th>\n",
       "      <th>height_cm</th>\n",
       "      <th>weight_kg</th>\n",
       "      <th>date_of_birth</th>\n",
       "      <th>current_date</th>\n",
       "      <th>age</th>\n",
       "    </tr>\n",
       "    <tr>\n",
       "      <th>name</th>\n",
       "      <th></th>\n",
       "      <th></th>\n",
       "      <th></th>\n",
       "      <th></th>\n",
       "      <th></th>\n",
       "      <th></th>\n",
       "      <th></th>\n",
       "    </tr>\n",
       "  </thead>\n",
       "  <tbody>\n",
       "    <tr>\n",
       "      <th>Bella</th>\n",
       "      <td>Labrador</td>\n",
       "      <td>Brown</td>\n",
       "      <td>56</td>\n",
       "      <td>24</td>\n",
       "      <td>2013-07-01</td>\n",
       "      <td>2024-09-27</td>\n",
       "      <td>11.25</td>\n",
       "    </tr>\n",
       "    <tr>\n",
       "      <th>Charlie</th>\n",
       "      <td>Poodle</td>\n",
       "      <td>Black</td>\n",
       "      <td>43</td>\n",
       "      <td>24</td>\n",
       "      <td>2016-09-16</td>\n",
       "      <td>2024-09-27</td>\n",
       "      <td>8.04</td>\n",
       "    </tr>\n",
       "    <tr>\n",
       "      <th>Lucy</th>\n",
       "      <td>ChowChow</td>\n",
       "      <td>Brown</td>\n",
       "      <td>46</td>\n",
       "      <td>24</td>\n",
       "      <td>2014-08-25</td>\n",
       "      <td>2024-09-27</td>\n",
       "      <td>10.10</td>\n",
       "    </tr>\n",
       "    <tr>\n",
       "      <th>Coooper</th>\n",
       "      <td>Schnauzer</td>\n",
       "      <td>Gray</td>\n",
       "      <td>49</td>\n",
       "      <td>17</td>\n",
       "      <td>2011-12-11</td>\n",
       "      <td>2024-09-27</td>\n",
       "      <td>12.81</td>\n",
       "    </tr>\n",
       "    <tr>\n",
       "      <th>Max</th>\n",
       "      <td>Labrador</td>\n",
       "      <td>Black</td>\n",
       "      <td>59</td>\n",
       "      <td>29</td>\n",
       "      <td>2017-01-28</td>\n",
       "      <td>2024-09-27</td>\n",
       "      <td>7.67</td>\n",
       "    </tr>\n",
       "    <tr>\n",
       "      <th>Stella</th>\n",
       "      <td>Chihuahua</td>\n",
       "      <td>Tan</td>\n",
       "      <td>18</td>\n",
       "      <td>2</td>\n",
       "      <td>2015-04-20</td>\n",
       "      <td>2024-09-27</td>\n",
       "      <td>9.45</td>\n",
       "    </tr>\n",
       "    <tr>\n",
       "      <th>Bernie</th>\n",
       "      <td>St.Bernard</td>\n",
       "      <td>White</td>\n",
       "      <td>77</td>\n",
       "      <td>74</td>\n",
       "      <td>2018-02-27</td>\n",
       "      <td>2024-09-27</td>\n",
       "      <td>6.59</td>\n",
       "    </tr>\n",
       "  </tbody>\n",
       "</table>\n",
       "</div>"
      ],
      "text/plain": [
       "              breed  color  height_cm  weight_kg date_of_birth current_date  \\\n",
       "name                                                                          \n",
       "Bella      Labrador  Brown         56         24    2013-07-01   2024-09-27   \n",
       "Charlie      Poodle  Black         43         24    2016-09-16   2024-09-27   \n",
       "Lucy       ChowChow  Brown         46         24    2014-08-25   2024-09-27   \n",
       "Coooper   Schnauzer   Gray         49         17    2011-12-11   2024-09-27   \n",
       "Max        Labrador  Black         59         29    2017-01-28   2024-09-27   \n",
       "Stella    Chihuahua    Tan         18          2    2015-04-20   2024-09-27   \n",
       "Bernie   St.Bernard  White         77         74    2018-02-27   2024-09-27   \n",
       "\n",
       "           age  \n",
       "name            \n",
       "Bella    11.25  \n",
       "Charlie   8.04  \n",
       "Lucy     10.10  \n",
       "Coooper  12.81  \n",
       "Max       7.67  \n",
       "Stella    9.45  \n",
       "Bernie    6.59  "
      ]
     },
     "execution_count": 68,
     "metadata": {},
     "output_type": "execute_result"
    }
   ],
   "source": [
    "# how would you get the age of each dog?\n",
    "# you want to subtract each date_of_birth from today's date: 2024-09-27\n",
    "import datetime as dt\n",
    "import numpy as np\n",
    "df['date_of_birth'] = pd.to_datetime(df.date_of_birth) # convert string date col into a datetime col via pandas\n",
    "#dt.date.today() - df['date_of_birth'] # won't work\n",
    "# instead, create a new col consisting of the date threshold\n",
    "df['current_date'] = pd.to_datetime(dt.date.today())\n",
    "df['age'] = np.round((df['current_date'] - df['date_of_birth']).dt.days/365 , 2)\n",
    "df"
   ]
  },
  {
   "cell_type": "code",
   "execution_count": 58,
   "id": "b634c4f3",
   "metadata": {},
   "outputs": [
    {
     "data": {
      "text/html": [
       "<div>\n",
       "<style scoped>\n",
       "    .dataframe tbody tr th:only-of-type {\n",
       "        vertical-align: middle;\n",
       "    }\n",
       "\n",
       "    .dataframe tbody tr th {\n",
       "        vertical-align: top;\n",
       "    }\n",
       "\n",
       "    .dataframe thead th {\n",
       "        text-align: right;\n",
       "    }\n",
       "</style>\n",
       "<table border=\"1\" class=\"dataframe\">\n",
       "  <thead>\n",
       "    <tr style=\"text-align: right;\">\n",
       "      <th></th>\n",
       "      <th>breed</th>\n",
       "      <th>color</th>\n",
       "      <th>height_cm</th>\n",
       "      <th>weight_kg</th>\n",
       "      <th>date_of_birth</th>\n",
       "      <th>current_date</th>\n",
       "    </tr>\n",
       "    <tr>\n",
       "      <th>name</th>\n",
       "      <th></th>\n",
       "      <th></th>\n",
       "      <th></th>\n",
       "      <th></th>\n",
       "      <th></th>\n",
       "      <th></th>\n",
       "    </tr>\n",
       "  </thead>\n",
       "  <tbody>\n",
       "    <tr>\n",
       "      <th>Bella</th>\n",
       "      <td>Labrador</td>\n",
       "      <td>Brown</td>\n",
       "      <td>56</td>\n",
       "      <td>24</td>\n",
       "      <td>2013-07-01</td>\n",
       "      <td>2024-09-27</td>\n",
       "    </tr>\n",
       "    <tr>\n",
       "      <th>Charlie</th>\n",
       "      <td>Poodle</td>\n",
       "      <td>Black</td>\n",
       "      <td>43</td>\n",
       "      <td>24</td>\n",
       "      <td>2016-09-16</td>\n",
       "      <td>2024-09-27</td>\n",
       "    </tr>\n",
       "    <tr>\n",
       "      <th>Lucy</th>\n",
       "      <td>ChowChow</td>\n",
       "      <td>Brown</td>\n",
       "      <td>46</td>\n",
       "      <td>24</td>\n",
       "      <td>2014-08-25</td>\n",
       "      <td>2024-09-27</td>\n",
       "    </tr>\n",
       "    <tr>\n",
       "      <th>Coooper</th>\n",
       "      <td>Schnauzer</td>\n",
       "      <td>Gray</td>\n",
       "      <td>49</td>\n",
       "      <td>17</td>\n",
       "      <td>2011-12-11</td>\n",
       "      <td>2024-09-27</td>\n",
       "    </tr>\n",
       "    <tr>\n",
       "      <th>Max</th>\n",
       "      <td>Labrador</td>\n",
       "      <td>Black</td>\n",
       "      <td>59</td>\n",
       "      <td>29</td>\n",
       "      <td>2017-01-28</td>\n",
       "      <td>2024-09-27</td>\n",
       "    </tr>\n",
       "    <tr>\n",
       "      <th>Stella</th>\n",
       "      <td>Chihuahua</td>\n",
       "      <td>Tan</td>\n",
       "      <td>18</td>\n",
       "      <td>2</td>\n",
       "      <td>2015-04-20</td>\n",
       "      <td>2024-09-27</td>\n",
       "    </tr>\n",
       "    <tr>\n",
       "      <th>Bernie</th>\n",
       "      <td>St.Bernard</td>\n",
       "      <td>White</td>\n",
       "      <td>77</td>\n",
       "      <td>74</td>\n",
       "      <td>2018-02-27</td>\n",
       "      <td>2024-09-27</td>\n",
       "    </tr>\n",
       "  </tbody>\n",
       "</table>\n",
       "</div>"
      ],
      "text/plain": [
       "              breed  color  height_cm  weight_kg date_of_birth current_date\n",
       "name                                                                       \n",
       "Bella      Labrador  Brown         56         24    2013-07-01   2024-09-27\n",
       "Charlie      Poodle  Black         43         24    2016-09-16   2024-09-27\n",
       "Lucy       ChowChow  Brown         46         24    2014-08-25   2024-09-27\n",
       "Coooper   Schnauzer   Gray         49         17    2011-12-11   2024-09-27\n",
       "Max        Labrador  Black         59         29    2017-01-28   2024-09-27\n",
       "Stella    Chihuahua    Tan         18          2    2015-04-20   2024-09-27\n",
       "Bernie   St.Bernard  White         77         74    2018-02-27   2024-09-27"
      ]
     },
     "execution_count": 58,
     "metadata": {},
     "output_type": "execute_result"
    }
   ],
   "source": [
    "df"
   ]
  },
  {
   "cell_type": "code",
   "execution_count": 59,
   "id": "01280c7b",
   "metadata": {},
   "outputs": [
    {
     "data": {
      "text/plain": [
       "name\n",
       "Bella     2024-09-27\n",
       "Charlie   2024-09-27\n",
       "Lucy      2024-09-27\n",
       "Coooper   2024-09-27\n",
       "Max       2024-09-27\n",
       "Stella    2024-09-27\n",
       "Bernie    2024-09-27\n",
       "Name: current_date, dtype: datetime64[ns]"
      ]
     },
     "execution_count": 59,
     "metadata": {},
     "output_type": "execute_result"
    }
   ],
   "source": [
    "df['current_date']"
   ]
  },
  {
   "cell_type": "code",
   "execution_count": 75,
   "id": "fe39a136",
   "metadata": {},
   "outputs": [
    {
     "data": {
      "text/html": [
       "<div>\n",
       "<style scoped>\n",
       "    .dataframe tbody tr th:only-of-type {\n",
       "        vertical-align: middle;\n",
       "    }\n",
       "\n",
       "    .dataframe tbody tr th {\n",
       "        vertical-align: top;\n",
       "    }\n",
       "\n",
       "    .dataframe thead th {\n",
       "        text-align: right;\n",
       "    }\n",
       "</style>\n",
       "<table border=\"1\" class=\"dataframe\">\n",
       "  <thead>\n",
       "    <tr style=\"text-align: right;\">\n",
       "      <th></th>\n",
       "      <th>year</th>\n",
       "      <th>sex</th>\n",
       "      <th>name</th>\n",
       "      <th>count</th>\n",
       "    </tr>\n",
       "  </thead>\n",
       "  <tbody>\n",
       "    <tr>\n",
       "      <th>0</th>\n",
       "      <td>1880</td>\n",
       "      <td>Female</td>\n",
       "      <td>Mary</td>\n",
       "      <td>7065</td>\n",
       "    </tr>\n",
       "    <tr>\n",
       "      <th>1</th>\n",
       "      <td>1880</td>\n",
       "      <td>Male</td>\n",
       "      <td>John</td>\n",
       "      <td>9655</td>\n",
       "    </tr>\n",
       "    <tr>\n",
       "      <th>2</th>\n",
       "      <td>1881</td>\n",
       "      <td>Female</td>\n",
       "      <td>Mary</td>\n",
       "      <td>6919</td>\n",
       "    </tr>\n",
       "    <tr>\n",
       "      <th>3</th>\n",
       "      <td>1881</td>\n",
       "      <td>Male</td>\n",
       "      <td>John</td>\n",
       "      <td>8769</td>\n",
       "    </tr>\n",
       "    <tr>\n",
       "      <th>4</th>\n",
       "      <td>1882</td>\n",
       "      <td>Female</td>\n",
       "      <td>Mary</td>\n",
       "      <td>8148</td>\n",
       "    </tr>\n",
       "    <tr>\n",
       "      <th>...</th>\n",
       "      <td>...</td>\n",
       "      <td>...</td>\n",
       "      <td>...</td>\n",
       "      <td>...</td>\n",
       "    </tr>\n",
       "    <tr>\n",
       "      <th>273</th>\n",
       "      <td>2016</td>\n",
       "      <td>Male</td>\n",
       "      <td>Noah</td>\n",
       "      <td>19117</td>\n",
       "    </tr>\n",
       "    <tr>\n",
       "      <th>274</th>\n",
       "      <td>2017</td>\n",
       "      <td>Female</td>\n",
       "      <td>Emma</td>\n",
       "      <td>19800</td>\n",
       "    </tr>\n",
       "    <tr>\n",
       "      <th>275</th>\n",
       "      <td>2017</td>\n",
       "      <td>Male</td>\n",
       "      <td>Liam</td>\n",
       "      <td>18798</td>\n",
       "    </tr>\n",
       "    <tr>\n",
       "      <th>276</th>\n",
       "      <td>2018</td>\n",
       "      <td>Female</td>\n",
       "      <td>Emma</td>\n",
       "      <td>18688</td>\n",
       "    </tr>\n",
       "    <tr>\n",
       "      <th>277</th>\n",
       "      <td>2018</td>\n",
       "      <td>Male</td>\n",
       "      <td>Liam</td>\n",
       "      <td>19837</td>\n",
       "    </tr>\n",
       "  </tbody>\n",
       "</table>\n",
       "<p>278 rows × 4 columns</p>\n",
       "</div>"
      ],
      "text/plain": [
       "     year     sex  name  count\n",
       "0    1880  Female  Mary   7065\n",
       "1    1880    Male  John   9655\n",
       "2    1881  Female  Mary   6919\n",
       "3    1881    Male  John   8769\n",
       "4    1882  Female  Mary   8148\n",
       "..    ...     ...   ...    ...\n",
       "273  2016    Male  Noah  19117\n",
       "274  2017  Female  Emma  19800\n",
       "275  2017    Male  Liam  18798\n",
       "276  2018  Female  Emma  18688\n",
       "277  2018    Male  Liam  19837\n",
       "\n",
       "[278 rows x 4 columns]"
      ]
     },
     "execution_count": 75,
     "metadata": {},
     "output_type": "execute_result"
    }
   ],
   "source": [
    "# if you want to import a csv file into pandas\n",
    "#topnames = pd.read_csv(r\"C:\\Users\\bilene\\Downloads\\topnames.csv\") # or\n",
    "topnames = pd.read_csv(r\"https://raw.githubusercontent.com/ernbilen/Data200_Fall24/refs/heads/main/data/topnames.csv\")\n",
    "topnames"
   ]
  },
  {
   "cell_type": "code",
   "execution_count": 74,
   "id": "83c019be",
   "metadata": {},
   "outputs": [
    {
     "name": "stdout",
     "output_type": "stream",
     "text": [
      "<class 'pandas.core.frame.DataFrame'>\n",
      "RangeIndex: 278 entries, 0 to 277\n",
      "Data columns (total 4 columns):\n",
      " #   Column  Non-Null Count  Dtype \n",
      "---  ------  --------------  ----- \n",
      " 0   year    278 non-null    int64 \n",
      " 1   sex     278 non-null    object\n",
      " 2   name    278 non-null    object\n",
      " 3   count   278 non-null    int64 \n",
      "dtypes: int64(2), object(2)\n",
      "memory usage: 8.8+ KB\n"
     ]
    }
   ],
   "source": [
    "topnames.info()"
   ]
  },
  {
   "cell_type": "code",
   "execution_count": null,
   "id": "f892f2e9",
   "metadata": {},
   "outputs": [],
   "source": []
  }
 ],
 "metadata": {
  "kernelspec": {
   "display_name": "Python 3 (ipykernel)",
   "language": "python",
   "name": "python3"
  },
  "language_info": {
   "codemirror_mode": {
    "name": "ipython",
    "version": 3
   },
   "file_extension": ".py",
   "mimetype": "text/x-python",
   "name": "python",
   "nbconvert_exporter": "python",
   "pygments_lexer": "ipython3",
   "version": "3.9.16"
  }
 },
 "nbformat": 4,
 "nbformat_minor": 5
}
