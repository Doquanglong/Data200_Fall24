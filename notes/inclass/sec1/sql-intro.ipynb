{
 "cells": [
  {
   "cell_type": "code",
   "execution_count": 2,
   "id": "aad51587",
   "metadata": {},
   "outputs": [],
   "source": [
    "%load_ext sql"
   ]
  },
  {
   "cell_type": "code",
   "execution_count": 3,
   "id": "0aab74d6",
   "metadata": {},
   "outputs": [],
   "source": [
    "%sql sqlite:///C:\\Users\\bilene\\Downloads\\book.db"
   ]
  },
  {
   "cell_type": "code",
   "execution_count": 5,
   "id": "b795258d",
   "metadata": {},
   "outputs": [
    {
     "name": "stdout",
     "output_type": "stream",
     "text": [
      " * sqlite:///C:\\Users\\bilene\\Downloads\\book.db\n",
      "Done.\n"
     ]
    }
   ],
   "source": [
    "output = %sql SELECT * FROM indicators0"
   ]
  },
  {
   "cell_type": "code",
   "execution_count": 8,
   "id": "b637f533",
   "metadata": {},
   "outputs": [
    {
     "data": {
      "text/html": [
       "<table>\n",
       "    <thead>\n",
       "        <tr>\n",
       "            <th>code</th>\n",
       "            <th>pop</th>\n",
       "            <th>gdp</th>\n",
       "            <th>life</th>\n",
       "            <th>cell</th>\n",
       "        </tr>\n",
       "    </thead>\n",
       "    <tbody>\n",
       "        <tr>\n",
       "            <td>CHN</td>\n",
       "            <td>1386.4</td>\n",
       "            <td>12143.5</td>\n",
       "            <td>76.4</td>\n",
       "            <td>1469.88</td>\n",
       "        </tr>\n",
       "        <tr>\n",
       "            <td>FRA</td>\n",
       "            <td>66.87</td>\n",
       "            <td>2586.29</td>\n",
       "            <td>82.5</td>\n",
       "            <td>69.02</td>\n",
       "        </tr>\n",
       "        <tr>\n",
       "            <td>GBR</td>\n",
       "            <td>66.06</td>\n",
       "            <td>2637.87</td>\n",
       "            <td>81.2</td>\n",
       "            <td>79.1</td>\n",
       "        </tr>\n",
       "        <tr>\n",
       "            <td>IND</td>\n",
       "            <td>1338.66</td>\n",
       "            <td>2652.55</td>\n",
       "            <td>68.8</td>\n",
       "            <td>1168.9</td>\n",
       "        </tr>\n",
       "        <tr>\n",
       "            <td>USA</td>\n",
       "            <td>325.15</td>\n",
       "            <td>19485.4</td>\n",
       "            <td>78.5</td>\n",
       "            <td>391.6</td>\n",
       "        </tr>\n",
       "    </tbody>\n",
       "</table>"
      ],
      "text/plain": [
       "[('CHN', 1386.4, 12143.5, 76.4, 1469.88),\n",
       " ('FRA', 66.87, 2586.29, 82.5, 69.02),\n",
       " ('GBR', 66.06, 2637.87, 81.2, 79.1),\n",
       " ('IND', 1338.66, 2652.55, 68.8, 1168.9),\n",
       " ('USA', 325.15, 19485.4, 78.5, 391.6)]"
      ]
     },
     "execution_count": 8,
     "metadata": {},
     "output_type": "execute_result"
    }
   ],
   "source": [
    "output"
   ]
  },
  {
   "cell_type": "code",
   "execution_count": 10,
   "id": "f629d68a",
   "metadata": {},
   "outputs": [
    {
     "name": "stdout",
     "output_type": "stream",
     "text": [
      "  code      pop       gdp  life     cell\n",
      "0  CHN  1386.40  12143.50  76.4  1469.88\n",
      "1  FRA    66.87   2586.29  82.5    69.02\n",
      "2  GBR    66.06   2637.87  81.2    79.10\n",
      "3  IND  1338.66   2652.55  68.8  1168.90\n",
      "4  USA   325.15  19485.40  78.5   391.60\n"
     ]
    }
   ],
   "source": [
    "import pandas as pd\n",
    "df = pd.DataFrame(output)\n",
    "print(df)"
   ]
  },
  {
   "cell_type": "code",
   "execution_count": 24,
   "id": "e899248f",
   "metadata": {},
   "outputs": [
    {
     "name": "stdout",
     "output_type": "stream",
     "text": [
      " * sqlite:///C:\\Users\\bilene\\Downloads\\book.db\n",
      "Done.\n"
     ]
    },
    {
     "data": {
      "text/html": [
       "<table>\n",
       "    <thead>\n",
       "        <tr>\n",
       "            <th>year</th>\n",
       "            <th>code</th>\n",
       "            <th>pop</th>\n",
       "            <th>gdp</th>\n",
       "            <th>life</th>\n",
       "            <th>cell</th>\n",
       "            <th>imports</th>\n",
       "            <th>exports</th>\n",
       "        </tr>\n",
       "    </thead>\n",
       "    <tbody>\n",
       "        <tr>\n",
       "            <td>1960</td>\n",
       "            <td>ABW</td>\n",
       "            <td>0.05</td>\n",
       "            <td>None</td>\n",
       "            <td>65.7</td>\n",
       "            <td>0.0</td>\n",
       "            <td>None</td>\n",
       "            <td>None</td>\n",
       "        </tr>\n",
       "        <tr>\n",
       "            <td>1960</td>\n",
       "            <td>AFG</td>\n",
       "            <td>9.0</td>\n",
       "            <td>0.54</td>\n",
       "            <td>32.3</td>\n",
       "            <td>0.0</td>\n",
       "            <td>None</td>\n",
       "            <td>49.9</td>\n",
       "        </tr>\n",
       "        <tr>\n",
       "            <td>1960</td>\n",
       "            <td>AGO</td>\n",
       "            <td>5.45</td>\n",
       "            <td>None</td>\n",
       "            <td>33.3</td>\n",
       "            <td>0.0</td>\n",
       "            <td>127.5</td>\n",
       "            <td>123.3</td>\n",
       "        </tr>\n",
       "        <tr>\n",
       "            <td>1960</td>\n",
       "            <td>ALB</td>\n",
       "            <td>1.61</td>\n",
       "            <td>None</td>\n",
       "            <td>62.3</td>\n",
       "            <td>0.0</td>\n",
       "            <td>None</td>\n",
       "            <td>None</td>\n",
       "        </tr>\n",
       "        <tr>\n",
       "            <td>1960</td>\n",
       "            <td>AND</td>\n",
       "            <td>0.01</td>\n",
       "            <td>None</td>\n",
       "            <td>None</td>\n",
       "            <td>0.0</td>\n",
       "            <td>None</td>\n",
       "            <td>None</td>\n",
       "        </tr>\n",
       "    </tbody>\n",
       "</table>"
      ],
      "text/plain": [
       "[(1960, 'ABW', 0.05, None, 65.7, 0.0, None, None),\n",
       " (1960, 'AFG', 9.0, 0.54, 32.3, 0.0, None, 49.9),\n",
       " (1960, 'AGO', 5.45, None, 33.3, 0.0, 127.5, 123.3),\n",
       " (1960, 'ALB', 1.61, None, 62.3, 0.0, None, None),\n",
       " (1960, 'AND', 0.01, None, None, 0.0, None, None)]"
      ]
     },
     "execution_count": 24,
     "metadata": {},
     "output_type": "execute_result"
    }
   ],
   "source": [
    "%%sql\n",
    "SELECT * FROM indicators\n",
    "LIMIT 5"
   ]
  },
  {
   "cell_type": "code",
   "execution_count": 15,
   "id": "f9c363e3",
   "metadata": {},
   "outputs": [
    {
     "name": "stdout",
     "output_type": "stream",
     "text": [
      " * sqlite:///C:\\Users\\bilene\\Downloads\\book.db\n",
      "Done.\n",
      "Returning data to local variable output2\n"
     ]
    }
   ],
   "source": [
    "%%sql\n",
    "output2 <<\n",
    "SELECT * FROM indicators"
   ]
  },
  {
   "cell_type": "code",
   "execution_count": 16,
   "id": "404e92c3",
   "metadata": {},
   "outputs": [
    {
     "data": {
      "text/html": [
       "<div>\n",
       "<style scoped>\n",
       "    .dataframe tbody tr th:only-of-type {\n",
       "        vertical-align: middle;\n",
       "    }\n",
       "\n",
       "    .dataframe tbody tr th {\n",
       "        vertical-align: top;\n",
       "    }\n",
       "\n",
       "    .dataframe thead th {\n",
       "        text-align: right;\n",
       "    }\n",
       "</style>\n",
       "<table border=\"1\" class=\"dataframe\">\n",
       "  <thead>\n",
       "    <tr style=\"text-align: right;\">\n",
       "      <th></th>\n",
       "      <th>year</th>\n",
       "      <th>code</th>\n",
       "      <th>pop</th>\n",
       "      <th>gdp</th>\n",
       "      <th>life</th>\n",
       "      <th>cell</th>\n",
       "      <th>imports</th>\n",
       "      <th>exports</th>\n",
       "    </tr>\n",
       "  </thead>\n",
       "  <tbody>\n",
       "    <tr>\n",
       "      <th>0</th>\n",
       "      <td>1960</td>\n",
       "      <td>ABW</td>\n",
       "      <td>0.05</td>\n",
       "      <td>NaN</td>\n",
       "      <td>65.7</td>\n",
       "      <td>0.0</td>\n",
       "      <td>NaN</td>\n",
       "      <td>NaN</td>\n",
       "    </tr>\n",
       "    <tr>\n",
       "      <th>1</th>\n",
       "      <td>1960</td>\n",
       "      <td>AFG</td>\n",
       "      <td>9.00</td>\n",
       "      <td>0.54</td>\n",
       "      <td>32.3</td>\n",
       "      <td>0.0</td>\n",
       "      <td>NaN</td>\n",
       "      <td>49.9</td>\n",
       "    </tr>\n",
       "    <tr>\n",
       "      <th>2</th>\n",
       "      <td>1960</td>\n",
       "      <td>AGO</td>\n",
       "      <td>5.45</td>\n",
       "      <td>NaN</td>\n",
       "      <td>33.3</td>\n",
       "      <td>0.0</td>\n",
       "      <td>127.5</td>\n",
       "      <td>123.3</td>\n",
       "    </tr>\n",
       "    <tr>\n",
       "      <th>3</th>\n",
       "      <td>1960</td>\n",
       "      <td>ALB</td>\n",
       "      <td>1.61</td>\n",
       "      <td>NaN</td>\n",
       "      <td>62.3</td>\n",
       "      <td>0.0</td>\n",
       "      <td>NaN</td>\n",
       "      <td>NaN</td>\n",
       "    </tr>\n",
       "    <tr>\n",
       "      <th>4</th>\n",
       "      <td>1960</td>\n",
       "      <td>AND</td>\n",
       "      <td>0.01</td>\n",
       "      <td>NaN</td>\n",
       "      <td>NaN</td>\n",
       "      <td>0.0</td>\n",
       "      <td>NaN</td>\n",
       "      <td>NaN</td>\n",
       "    </tr>\n",
       "    <tr>\n",
       "      <th>...</th>\n",
       "      <td>...</td>\n",
       "      <td>...</td>\n",
       "      <td>...</td>\n",
       "      <td>...</td>\n",
       "      <td>...</td>\n",
       "      <td>...</td>\n",
       "      <td>...</td>\n",
       "      <td>...</td>\n",
       "    </tr>\n",
       "    <tr>\n",
       "      <th>12857</th>\n",
       "      <td>2018</td>\n",
       "      <td>XKX</td>\n",
       "      <td>1.85</td>\n",
       "      <td>7.90</td>\n",
       "      <td>NaN</td>\n",
       "      <td>NaN</td>\n",
       "      <td>NaN</td>\n",
       "      <td>NaN</td>\n",
       "    </tr>\n",
       "    <tr>\n",
       "      <th>12858</th>\n",
       "      <td>2018</td>\n",
       "      <td>YEM</td>\n",
       "      <td>28.50</td>\n",
       "      <td>26.91</td>\n",
       "      <td>NaN</td>\n",
       "      <td>NaN</td>\n",
       "      <td>NaN</td>\n",
       "      <td>NaN</td>\n",
       "    </tr>\n",
       "    <tr>\n",
       "      <th>12859</th>\n",
       "      <td>2018</td>\n",
       "      <td>ZAF</td>\n",
       "      <td>57.78</td>\n",
       "      <td>366.30</td>\n",
       "      <td>NaN</td>\n",
       "      <td>NaN</td>\n",
       "      <td>NaN</td>\n",
       "      <td>NaN</td>\n",
       "    </tr>\n",
       "    <tr>\n",
       "      <th>12860</th>\n",
       "      <td>2018</td>\n",
       "      <td>ZMB</td>\n",
       "      <td>17.35</td>\n",
       "      <td>26.72</td>\n",
       "      <td>NaN</td>\n",
       "      <td>NaN</td>\n",
       "      <td>NaN</td>\n",
       "      <td>NaN</td>\n",
       "    </tr>\n",
       "    <tr>\n",
       "      <th>12861</th>\n",
       "      <td>2018</td>\n",
       "      <td>ZWE</td>\n",
       "      <td>14.44</td>\n",
       "      <td>31.00</td>\n",
       "      <td>NaN</td>\n",
       "      <td>NaN</td>\n",
       "      <td>NaN</td>\n",
       "      <td>NaN</td>\n",
       "    </tr>\n",
       "  </tbody>\n",
       "</table>\n",
       "<p>12862 rows × 8 columns</p>\n",
       "</div>"
      ],
      "text/plain": [
       "       year code    pop     gdp  life  cell  imports  exports\n",
       "0      1960  ABW   0.05     NaN  65.7   0.0      NaN      NaN\n",
       "1      1960  AFG   9.00    0.54  32.3   0.0      NaN     49.9\n",
       "2      1960  AGO   5.45     NaN  33.3   0.0    127.5    123.3\n",
       "3      1960  ALB   1.61     NaN  62.3   0.0      NaN      NaN\n",
       "4      1960  AND   0.01     NaN   NaN   0.0      NaN      NaN\n",
       "...     ...  ...    ...     ...   ...   ...      ...      ...\n",
       "12857  2018  XKX   1.85    7.90   NaN   NaN      NaN      NaN\n",
       "12858  2018  YEM  28.50   26.91   NaN   NaN      NaN      NaN\n",
       "12859  2018  ZAF  57.78  366.30   NaN   NaN      NaN      NaN\n",
       "12860  2018  ZMB  17.35   26.72   NaN   NaN      NaN      NaN\n",
       "12861  2018  ZWE  14.44   31.00   NaN   NaN      NaN      NaN\n",
       "\n",
       "[12862 rows x 8 columns]"
      ]
     },
     "execution_count": 16,
     "metadata": {},
     "output_type": "execute_result"
    }
   ],
   "source": [
    "pd.DataFrame(output2)"
   ]
  },
  {
   "cell_type": "code",
   "execution_count": 18,
   "id": "c47e133a",
   "metadata": {},
   "outputs": [
    {
     "name": "stdout",
     "output_type": "stream",
     "text": [
      " * sqlite:///C:\\Users\\bilene\\Downloads\\book.db\n",
      "Done.\n"
     ]
    },
    {
     "data": {
      "text/html": [
       "<table>\n",
       "    <thead>\n",
       "        <tr>\n",
       "            <th>code</th>\n",
       "            <th>pop</th>\n",
       "            <th>gdp</th>\n",
       "            <th>life</th>\n",
       "            <th>cell</th>\n",
       "        </tr>\n",
       "    </thead>\n",
       "    <tbody>\n",
       "        <tr>\n",
       "            <td>CHN</td>\n",
       "            <td>1386.4</td>\n",
       "            <td>12143.5</td>\n",
       "            <td>76.4</td>\n",
       "            <td>1469.88</td>\n",
       "        </tr>\n",
       "        <tr>\n",
       "            <td>FRA</td>\n",
       "            <td>66.87</td>\n",
       "            <td>2586.29</td>\n",
       "            <td>82.5</td>\n",
       "            <td>69.02</td>\n",
       "        </tr>\n",
       "        <tr>\n",
       "            <td>GBR</td>\n",
       "            <td>66.06</td>\n",
       "            <td>2637.87</td>\n",
       "            <td>81.2</td>\n",
       "            <td>79.1</td>\n",
       "        </tr>\n",
       "        <tr>\n",
       "            <td>IND</td>\n",
       "            <td>1338.66</td>\n",
       "            <td>2652.55</td>\n",
       "            <td>68.8</td>\n",
       "            <td>1168.9</td>\n",
       "        </tr>\n",
       "        <tr>\n",
       "            <td>USA</td>\n",
       "            <td>325.15</td>\n",
       "            <td>19485.4</td>\n",
       "            <td>78.5</td>\n",
       "            <td>391.6</td>\n",
       "        </tr>\n",
       "    </tbody>\n",
       "</table>"
      ],
      "text/plain": [
       "[('CHN', 1386.4, 12143.5, 76.4, 1469.88),\n",
       " ('FRA', 66.87, 2586.29, 82.5, 69.02),\n",
       " ('GBR', 66.06, 2637.87, 81.2, 79.1),\n",
       " ('IND', 1338.66, 2652.55, 68.8, 1168.9),\n",
       " ('USA', 325.15, 19485.4, 78.5, 391.6)]"
      ]
     },
     "execution_count": 18,
     "metadata": {},
     "output_type": "execute_result"
    }
   ],
   "source": [
    "%%sql\n",
    "--Here is a one line comment\n",
    "/* Here is a multi line comment,\n",
    "My comment continues here,\n",
    "And it ends here */\n",
    "SELECT * FROM indicators0"
   ]
  },
  {
   "cell_type": "code",
   "execution_count": 21,
   "id": "f2189617",
   "metadata": {},
   "outputs": [
    {
     "name": "stdout",
     "output_type": "stream",
     "text": [
      " * sqlite:///C:\\Users\\bilene\\Downloads\\book.db\n",
      "Done.\n"
     ]
    },
    {
     "data": {
      "text/html": [
       "<table>\n",
       "    <thead>\n",
       "        <tr>\n",
       "            <th>name</th>\n",
       "        </tr>\n",
       "    </thead>\n",
       "    <tbody>\n",
       "        <tr>\n",
       "            <td>countries</td>\n",
       "        </tr>\n",
       "        <tr>\n",
       "            <td>indicators</td>\n",
       "        </tr>\n",
       "        <tr>\n",
       "            <td>indicators0</td>\n",
       "        </tr>\n",
       "        <tr>\n",
       "            <td>topnames</td>\n",
       "        </tr>\n",
       "    </tbody>\n",
       "</table>"
      ],
      "text/plain": [
       "[('countries',), ('indicators',), ('indicators0',), ('topnames',)]"
      ]
     },
     "execution_count": 21,
     "metadata": {},
     "output_type": "execute_result"
    }
   ],
   "source": [
    "%%sql\n",
    "-- This is to see what tables exist in the database\n",
    "SELECT name FROM sqlite_master\n",
    "WHERE type='table' "
   ]
  },
  {
   "cell_type": "code",
   "execution_count": 22,
   "id": "264ef8d6",
   "metadata": {},
   "outputs": [
    {
     "name": "stdout",
     "output_type": "stream",
     "text": [
      " * sqlite:///C:\\Users\\bilene\\Downloads\\book.db\n",
      "Done.\n"
     ]
    },
    {
     "data": {
      "text/html": [
       "<table>\n",
       "    <thead>\n",
       "        <tr>\n",
       "            <th>code</th>\n",
       "            <th>country</th>\n",
       "            <th>region</th>\n",
       "            <th>income</th>\n",
       "            <th>land</th>\n",
       "        </tr>\n",
       "    </thead>\n",
       "    <tbody>\n",
       "        <tr>\n",
       "            <td>ABW</td>\n",
       "            <td>Aruba</td>\n",
       "            <td>Latin America &amp; Caribbean</td>\n",
       "            <td>High income</td>\n",
       "            <td>180.0</td>\n",
       "        </tr>\n",
       "        <tr>\n",
       "            <td>AFG</td>\n",
       "            <td>Afghanistan</td>\n",
       "            <td>South Asia</td>\n",
       "            <td>Low income</td>\n",
       "            <td>652860.0</td>\n",
       "        </tr>\n",
       "        <tr>\n",
       "            <td>AGO</td>\n",
       "            <td>Angola</td>\n",
       "            <td>Sub-Saharan Africa</td>\n",
       "            <td>Lower middle income</td>\n",
       "            <td>1246700.0</td>\n",
       "        </tr>\n",
       "        <tr>\n",
       "            <td>ALB</td>\n",
       "            <td>Albania</td>\n",
       "            <td>Europe &amp; Central Asia</td>\n",
       "            <td>Upper middle income</td>\n",
       "            <td>27400.0</td>\n",
       "        </tr>\n",
       "        <tr>\n",
       "            <td>AND</td>\n",
       "            <td>Andorra</td>\n",
       "            <td>Europe &amp; Central Asia</td>\n",
       "            <td>High income</td>\n",
       "            <td>470.0</td>\n",
       "        </tr>\n",
       "    </tbody>\n",
       "</table>"
      ],
      "text/plain": [
       "[('ABW', 'Aruba', 'Latin America & Caribbean', 'High income', 180.0),\n",
       " ('AFG', 'Afghanistan', 'South Asia', 'Low income', 652860.0),\n",
       " ('AGO', 'Angola', 'Sub-Saharan Africa', 'Lower middle income', 1246700.0),\n",
       " ('ALB', 'Albania', 'Europe & Central Asia', 'Upper middle income', 27400.0),\n",
       " ('AND', 'Andorra', 'Europe & Central Asia', 'High income', 470.0)]"
      ]
     },
     "execution_count": 22,
     "metadata": {},
     "output_type": "execute_result"
    }
   ],
   "source": [
    "%%sql\n",
    "SELECT * from countries\n",
    "LIMIT 5"
   ]
  },
  {
   "cell_type": "code",
   "execution_count": 27,
   "id": "d29dd5fb",
   "metadata": {},
   "outputs": [
    {
     "name": "stdout",
     "output_type": "stream",
     "text": [
      " * sqlite:///C:\\Users\\bilene\\Downloads\\book.db\n",
      "Done.\n"
     ]
    },
    {
     "data": {
      "text/html": [
       "<table>\n",
       "    <thead>\n",
       "        <tr>\n",
       "            <th>cid</th>\n",
       "            <th>name</th>\n",
       "            <th>type</th>\n",
       "            <th>notnull</th>\n",
       "            <th>dflt_value</th>\n",
       "            <th>pk</th>\n",
       "        </tr>\n",
       "    </thead>\n",
       "    <tbody>\n",
       "        <tr>\n",
       "            <td>0</td>\n",
       "            <td>code</td>\n",
       "            <td>char(3)</td>\n",
       "            <td>1</td>\n",
       "            <td>None</td>\n",
       "            <td>1</td>\n",
       "        </tr>\n",
       "        <tr>\n",
       "            <td>1</td>\n",
       "            <td>country</td>\n",
       "            <td>varchar(64)</td>\n",
       "            <td>0</td>\n",
       "            <td>NULL</td>\n",
       "            <td>0</td>\n",
       "        </tr>\n",
       "        <tr>\n",
       "            <td>2</td>\n",
       "            <td>region</td>\n",
       "            <td>varchar(64)</td>\n",
       "            <td>0</td>\n",
       "            <td>NULL</td>\n",
       "            <td>0</td>\n",
       "        </tr>\n",
       "        <tr>\n",
       "            <td>3</td>\n",
       "            <td>income</td>\n",
       "            <td>varchar(64)</td>\n",
       "            <td>0</td>\n",
       "            <td>NULL</td>\n",
       "            <td>0</td>\n",
       "        </tr>\n",
       "        <tr>\n",
       "            <td>4</td>\n",
       "            <td>land</td>\n",
       "            <td>float</td>\n",
       "            <td>0</td>\n",
       "            <td>NULL</td>\n",
       "            <td>0</td>\n",
       "        </tr>\n",
       "    </tbody>\n",
       "</table>"
      ],
      "text/plain": [
       "[(0, 'code', 'char(3)', 1, None, 1),\n",
       " (1, 'country', 'varchar(64)', 0, 'NULL', 0),\n",
       " (2, 'region', 'varchar(64)', 0, 'NULL', 0),\n",
       " (3, 'income', 'varchar(64)', 0, 'NULL', 0),\n",
       " (4, 'land', 'float', 0, 'NULL', 0)]"
      ]
     },
     "execution_count": 27,
     "metadata": {},
     "output_type": "execute_result"
    }
   ],
   "source": [
    "%%sql\n",
    "PRAGMA table_info(countries)"
   ]
  },
  {
   "cell_type": "code",
   "execution_count": null,
   "id": "54020763",
   "metadata": {},
   "outputs": [],
   "source": []
  }
 ],
 "metadata": {
  "kernelspec": {
   "display_name": "Python 3 (ipykernel)",
   "language": "python",
   "name": "python3"
  },
  "language_info": {
   "codemirror_mode": {
    "name": "ipython",
    "version": 3
   },
   "file_extension": ".py",
   "mimetype": "text/x-python",
   "name": "python",
   "nbconvert_exporter": "python",
   "pygments_lexer": "ipython3",
   "version": "3.9.16"
  }
 },
 "nbformat": 4,
 "nbformat_minor": 5
}
